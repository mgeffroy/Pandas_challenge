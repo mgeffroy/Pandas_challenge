{
 "cells": [
  {
   "cell_type": "markdown",
   "metadata": {},
   "source": [
    "Analysis assingment \n",
    "1) The demographics of the game are as follows: \n",
    "    Most players are men, being around \n",
    "    As well most players are aged ___\n",
    "2)"
   ]
  },
  {
   "cell_type": "code",
   "execution_count": null,
   "metadata": {
    "scrolled": true
   },
   "outputs": [],
   "source": [
    "#Import pandas \n",
    "import pandas as pd \n",
    "import os \n",
    "\n",
    "# Load file\n",
    "csv_path = os.path.join(\"Resources/Purchase_data.csv\")\n",
    "\n",
    "# Read Purchasing File and store into Pandas data frame\n",
    "purchase_dataf = pd.read_csv(csv_path)\n",
    "purchase_dataf"
   ]
  },
  {
   "cell_type": "code",
   "execution_count": null,
   "metadata": {},
   "outputs": [],
   "source": [
    "#Player count \n",
    "#Count the total number of players\n",
    "players = len(purchase_dataf[\"SN\"].unique())\n",
    "#Create tiny data frame ( more like data box)\n",
    "Player_countdf = pd.DataFrame({\"Total Players\":[players]})\n",
    "Player_countdf"
   ]
  },
  {
   "cell_type": "code",
   "execution_count": null,
   "metadata": {},
   "outputs": [],
   "source": [
    "#Purchasing Analysis (Total)\n",
    "#Obtain number of unique items, average price, etc. using basic calculations\n",
    "\n",
    "#Create unique items\n",
    "items = purchase_dataf[\"Item Name\"].unique()\n",
    "unique_items = len(items)\n",
    "#Do average of price column\n",
    "average_price = round(purchase_dataf[\"Price\"].mean(),2)\n",
    "#Create number of purchases using purchase ID\n",
    "tot_purchase_num = len(purchase_dataf[\"Purchase ID\"])\n",
    "#Create total revenue\n",
    "tot_revenue = purchase_dataf[\"Price\"].sum()\n",
    "#Create a new dataframe with new information\n",
    "\n",
    "purchase_analysisdf = pd.DataFrame({\"Unique Items\":[unique_items], \n",
    "                                    \"Average Price\": [average_price], \n",
    "                                    \"Total Purchase Number\": [tot_purchase_num], \n",
    "                                    \"Total Revenue\": [tot_revenue]\n",
    "    \n",
    "    \n",
    "})\n",
    "# Add formatting \n",
    "purchase_analysisdf[\"Average Price\"] = purchase_analysisdf[\"Average Price\"].map(\"${:.2f}\".format)\n",
    "purchase_analysisdf[\"Total Revenue\"] = purchase_analysisdf[\"Total Revenue\"].map(\"${:.2f}\".format)\n",
    "\n",
    "purchase_analysisdf"
   ]
  },
  {
   "cell_type": "code",
   "execution_count": null,
   "metadata": {},
   "outputs": [],
   "source": [
    "#Gender of players\n",
    "#Percentage and Count of Male, Female and Other/Non-disclosed players\n",
    "#Drop players that are more than once\n",
    "gender_df = purchase_dataf[[\"SN\",\"Gender\"]].drop_duplicates()\n",
    "\n",
    "\n",
    "gender_count = gender_df[\"Gender\"].value_counts()\n",
    "\n",
    "\n",
    "#Check why values are different from gitlab\n",
    "#some players are the same because they made different purchases, change code to get repeated players out of gender count.\n"
   ]
  },
  {
   "cell_type": "code",
   "execution_count": null,
   "metadata": {},
   "outputs": [],
   "source": [
    "#Get counts to get the percentage \n",
    "tot_all = len(gender_df)\n",
    "tot_males = len(gender_df.loc[gender_df[\"Gender\"] == \"Male\"])\n",
    "tot_females = len(gender_df.loc[gender_df[\"Gender\"] == \"Female\"])\n",
    "tot_other = len(gender_df.loc[gender_df[\"Gender\"] == \"Other / Non-Disclosed\"])\n"
   ]
  },
  {
   "cell_type": "code",
   "execution_count": null,
   "metadata": {},
   "outputs": [],
   "source": [
    "#get percent by gender \n",
    "male_pct = round((tot_males/tot_all),2)\n",
    "female_pct= round((tot_females/tot_all),2)\n",
    "other_pct = round((tot_other/tot_all),2)"
   ]
  },
  {
   "cell_type": "code",
   "execution_count": null,
   "metadata": {},
   "outputs": [],
   "source": [
    "#make new dataframe to display the results for gender of players\n",
    "Final_genderdf = pd.DataFrame({\"Gender\":[\"Male\",\"Female\",\"Other / Non-Disclosed\"], \n",
    "                                    \"Total Count\": [tot_males,tot_females,tot_other], \n",
    "                                    \"Percentage of Players\": [\"{:.2%}\".format(male_pct),\n",
    "                                                              \"{:.2%}\".format(female_pct),\"{:.2%}\".format(other_pct)]  \n",
    "})\n",
    "Gender_countdf = Final_genderdf.set_index(\"Gender\")\n",
    "Gender_countdf \n"
   ]
  },
  {
   "cell_type": "code",
   "execution_count": null,
   "metadata": {
    "scrolled": true
   },
   "outputs": [],
   "source": [
    "#Purchasing analysis by gender \n",
    "#Use groupby \n",
    "Gender_group = purchase_dataf.groupby([\"Gender\"])\n",
    "\n",
    "#Obtain purchase count, avg. purchase price, avg. purchase total per person etc. by gender\n",
    "Gender_summarydf = Gender_group.Price.agg([\"count\", \"sum\", \"mean\"])\n",
    "Gender_summarydf\n",
    "\n",
    "#Get average purchase total per person\n",
    "#Bring data on total count of players\n",
    "Purchase_per_player = round((Gender_summarydf[\"sum\"]/Gender_countdf[\"Total Count\"]),2)\n",
    "Purchase_per_player\n",
    "\n",
    "\n",
    "# Change de names of the columns of dataframe \n",
    "Gender_summarydf = Gender_summarydf.rename(columns={\"count\": \"Purchase Count\",\n",
    "                                                  \"sum\": \"Total Purchase Value\",\n",
    "                                                   \"mean\": \"Average Purchase Value\"})\n",
    "\n",
    "\n",
    "#Add purchase per player column to the end of the dataframe.\n",
    "Gender_summarydf[\"Avg Purchase per Player\"] = Purchase_per_player\n",
    "\n",
    "#Give formatting \n",
    "Gender_summarydf[\"Total Purchase Value\"] = Gender_summarydf[\"Total Purchase Value\"].map(\"${:.2f}\".format)\n",
    "Gender_summarydf[\"Average Purchase Value\"] = Gender_summarydf[\"Average Purchase Value\"].map(\"${:.2f}\".format)\n",
    "Gender_summarydf[\"Avg Purchase per Player\"] = Gender_summarydf[\"Avg Purchase per Player\"].map(\"${:.2f}\".format)\n",
    "\n",
    "#Create a summary data frame and display it\n",
    "Gender_summarydf\n",
    "\n",
    "#.astype(float).map(\"${:,.2f}\".format)"
   ]
  },
  {
   "cell_type": "code",
   "execution_count": null,
   "metadata": {},
   "outputs": [],
   "source": [
    "#Age Demographics\n",
    "# Drop duplicates for age \n",
    "age_df = purchase_dataf[[\"SN\",\"Age\"]].drop_duplicates()\n",
    "\n",
    "#Make bins for ages. Put players in corresponding category using the bins (Hint use: use pd.cut())\n",
    "\n",
    "bins =[0,9,14,19,24,29,34,39,150]\n",
    "\n",
    "named_bins = [\"<10\",\"10-14\",\"15-19\",\"20-24\",\"25-29\",\"30-34\",\"35-39\",\"40+\"]\n",
    "\n",
    "age_df[\"Age Group\"] = pd.cut(age_df[\"Age\"], bins, labels=named_bins, include_lowest=True)\n",
    "\n",
    "\n"
   ]
  },
  {
   "cell_type": "code",
   "execution_count": null,
   "metadata": {
    "scrolled": true
   },
   "outputs": [],
   "source": [
    "#Use groupby to group by age \n",
    "age_groupdf = age_df.groupby([\"Age Group\"])\n",
    "# Calculate the numbers and percentages by age group\n",
    "get_SN = age_groupdf.count()\n",
    "SN_total = get_SN[\"SN\"]\n",
    "\n",
    "Age_pct = ((SN_total*100)/576)\n",
    "get_SN [\"Player Percent\"] = Age_pct.astype(float).map(\"{:,.2f}%\".format)\n",
    "#Create a summary data frame and display the results\n",
    "get_SN"
   ]
  },
  {
   "cell_type": "code",
   "execution_count": null,
   "metadata": {},
   "outputs": [],
   "source": [
    "#Purchasing Analysis (Age)\n",
    "#Make new dataframe for purchase and drop SN duplicates\n",
    "Age_purchase = purchase_dataf[[\"SN\",\"Age\", \"Price\"]].drop_duplicates()\n",
    "\n",
    "# Use bins made above and add them to the new data frame\n",
    "Age_purchase[\"Age Group\"] = pd.cut(Age_purchase[\"Age\"], bins, labels=named_bins, include_lowest=True)\n",
    "\n",
    "# Make groups with groupby\n",
    "Age_purchase_group = Age_purchase.groupby([\"Age Group\"])\n",
    "\n",
    "\n",
    "#Code for purchase count, avg. purchase price, avg. purchase total per person etc.\n",
    "#Total Number of Items Purchased\n",
    "age_total_items =Age_purchase_group[\"Price\"].count()\n",
    "\n",
    "#Average Purchase Price\n",
    "age_avg_price = Age_purchase_group[\"Price\"].mean()\n",
    "\n",
    "\n",
    "\n",
    "#Total Revenue\n",
    "\n",
    "age_tot_revenue = Age_purchase_group[\"Price\"].sum()\n",
    "\n",
    "#Average per person per age \n",
    "# I already know that the player total by age was already done before\n",
    "Purchase_per_age = round((age_tot_revenue/get_SN[\"Age\"]),2)\n"
   ]
  },
  {
   "cell_type": "code",
   "execution_count": null,
   "metadata": {},
   "outputs": [],
   "source": [
    "#Make new dataframe to show results \n",
    "Final_agedf = pd.DataFrame({ \"Purchase count\":age_total_items.map(\"${:,.2f}\".format), \n",
    "                                    \"Average Purchase Price\": age_avg_price.map(\"${:,.2f}\".format),\n",
    "                                   \"Total Purchase Value\":age_tot_revenue.map(\"${:,.2f}\".format),\n",
    "                                    \"Avg Total Purchase per Person\":Purchase_per_age.map(\"${:,.2f}\".format)\n",
    "})\n",
    "Final_agedf"
   ]
  },
  {
   "cell_type": "code",
   "execution_count": null,
   "metadata": {},
   "outputs": [],
   "source": [
    "#Top Spenders\n",
    "#Discover who is the top spender, and sort results in descending order. \n",
    "\n",
    "#Separate SN (player with their purchases)\n",
    "\n",
    "#Create dataframe for spenders \n",
    "\n",
    "Spenderdf = purchase_dataf[[\"SN\",\"Price\",\"Purchase ID\"]]\n",
    "\n",
    "#groupby SN to get players\n",
    "purch_by_player = Spenderdf.groupby(\"SN\")\n",
    "\n",
    "#Make purchase count \n",
    "num_purchase = purch_by_player[\"Purchase ID\"].count()\n",
    "\n",
    "#SUm values to get total purchase values\n",
    "tot_purch_value = purch_by_player[\"Price\"].sum()\n",
    "\n",
    "#Average purchase value by spender \n",
    "avg_purch_value =purch_by_player[\"Price\"].mean()"
   ]
  },
  {
   "cell_type": "code",
   "execution_count": null,
   "metadata": {},
   "outputs": [],
   "source": [
    "#Create the new dataframe with spender data \n",
    "Final_spenderdf = pd.DataFrame({ \"Purchase Count \": num_purchase,\n",
    "                                    \"Average Purchase Price\": avg_purch_value ,\n",
    "                                   \"Total Purchase Value\": tot_purch_value\n",
    "})\n",
    "\n",
    "#apply ascending = false \n",
    "Final_spenderdf = Final_spenderdf.sort_values(\"Total Purchase Value\", ascending = False)\n",
    "\n",
    "\n",
    "#Format in the end to avoid mistakes \n",
    "Final_spenderdf[\"Average Purchase Price\"] = Final_spenderdf[\"Average Purchase Price\"].map(\"${:,.2f}\".format)\n",
    "Final_spenderdf[\"Total Purchase Value\"] = Final_spenderdf[\"Total Purchase Value\"].map(\"${:,.2f}\".format)\n",
    "Final_spenderdf.head()"
   ]
  },
  {
   "cell_type": "code",
   "execution_count": null,
   "metadata": {},
   "outputs": [],
   "source": [
    "#Most Popular Items\n",
    "\n",
    "#Calculate purchase count, average item price, and total purchase value\n",
    "#apply ascending = false \n",
    "\n",
    "\n",
    "\n",
    "#Retrieve the Item ID, Item Name, and Item Price columns. \n",
    "popular_items = purchase_dataf[[\"Item ID\", \"Item Name\", \"Price\"]]\n",
    "\n",
    "#Group Item ID and Item name\n",
    "pop_items_group = popular_items.groupby([\"Item ID\", \"Item Name\"])\n",
    "\n",
    "#Count how many items have been bought of each\n",
    "pop_item_count= pop_items_group[\"Price\"].count()\n",
    "\n",
    "#Get Item price average. \n",
    "pop_item_priceavg = pop_items_group[\"Price\"].mean()\n",
    "\n",
    "#Get total purchase value \n",
    "tot_purchase_item = pop_items_group[\"Price\"].sum()\n",
    "\n",
    "\n"
   ]
  },
  {
   "cell_type": "code",
   "execution_count": null,
   "metadata": {},
   "outputs": [],
   "source": [
    "#Create new dataframe to display data \n",
    "popular_item_final = pd.DataFrame({\"Purchase Count\": pop_item_count,\n",
    "                                 \"Item Price\": pop_item_priceavg,\n",
    "                                 \"Total Purchase Value\": tot_purchase_item})\n",
    "\n",
    "#Sort values, format later \n",
    "popular_item_final = popular_item_final.sort_values([\"Purchase Count\",\"Item ID\"], ascending=False)\n",
    "\n",
    "profit_item = popular_item_final.copy()\n",
    "\n",
    "#Format in the end to avoid mistakes\n",
    "popular_item_final[\"Item Price\"] = popular_item_final[\"Item Price\"].map(\"${:,.2f}\".format)\n",
    "popular_item_final[\"Total Purchase Value\"] = popular_item_final[\"Total Purchase Value\"].map(\"${:,.2f}\".format)\n",
    "\n",
    "popular_item_final.head()"
   ]
  },
  {
   "cell_type": "code",
   "execution_count": null,
   "metadata": {},
   "outputs": [],
   "source": [
    "#Most Profitable Items\n",
    "\n",
    "#groupby Items\n",
    "#count those items "
   ]
  },
  {
   "cell_type": "code",
   "execution_count": null,
   "metadata": {},
   "outputs": [],
   "source": [
    "#Sort the above table by total purchase value in descending order. Create and display new dataframe"
   ]
  },
  {
   "cell_type": "code",
   "execution_count": null,
   "metadata": {},
   "outputs": [],
   "source": []
  }
 ],
 "metadata": {
  "kernelspec": {
   "display_name": "Python 3",
   "language": "python",
   "name": "python3"
  },
  "language_info": {
   "codemirror_mode": {
    "name": "ipython",
    "version": 3
   },
   "file_extension": ".py",
   "mimetype": "text/x-python",
   "name": "python",
   "nbconvert_exporter": "python",
   "pygments_lexer": "ipython3",
   "version": "3.8.5"
  }
 },
 "nbformat": 4,
 "nbformat_minor": 4
}
